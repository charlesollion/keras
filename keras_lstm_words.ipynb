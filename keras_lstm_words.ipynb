{
 "cells": [
  {
   "cell_type": "code",
   "execution_count": 5,
   "metadata": {
    "collapsed": true
   },
   "outputs": [],
   "source": [
    "import numpy as np\n",
    "\n",
    "from keras.preprocessing import sequence\n",
    "from keras.optimizers import SGD, RMSprop, Adagrad\n",
    "from keras.utils import np_utils\n",
    "from keras.models import Sequential\n",
    "from keras.layers.core import Dense, Dropout, Activation, Embedding\n",
    "from keras.layers.recurrent import LSTM, GRU\n",
    "\n",
    "def one_hot(value):\n",
    "    oh = np.zeros(len(voc), dtype='float32')\n",
    "    oh[value]=1.\n",
    "    return oh\n",
    "\n",
    "def get_seq_and_letter(mat, lens, size, split):\n",
    "    X_dat = []\n",
    "    Y_dat = []\n",
    "    X_test = []\n",
    "    Y_test = []\n",
    "    for i in range(int(split * size)):\n",
    "        X_dat.append(mat[i,0:lens[i]-1])\n",
    "        Y_dat.append(one_hot(mat[i,lens[i]-1]))\n",
    "    for i in range(int(split* size), size):\n",
    "        X_test.append(mat[i,0:lens[i]-1])\n",
    "        Y_test.append(one_hot(mat[i,lens[i]-1]))\n",
    "    return X_dat, Y_dat, X_test, Y_test"
   ]
  },
  {
   "cell_type": "code",
   "execution_count": 6,
   "metadata": {
    "collapsed": false
   },
   "outputs": [
    {
     "name": "stdout",
     "output_type": "stream",
     "text": [
      "Loading data...\n",
      "40000 train sequences\n",
      "10000 test sequences\n",
      "Pad sequences (samples x time)\n",
      "X_train shape: (40000, 30)\n",
      "X_test shape: (10000, 30)\n"
     ]
    }
   ],
   "source": [
    "\n",
    "\n",
    "max_features=len(voc)\n",
    "emb_size = 32\n",
    "maxlen = 30 # cut texts after this number of words (among top max_features most common words)                                                                                                                                                 \n",
    "batch_size = 16\n",
    "\n",
    "print \"Loading data...\"\n",
    "X_train, y_train, X_test, y_test = get_seq_and_letter(mat, lens, 50000, 0.8)\n",
    "print len(X_train), 'train sequences'\n",
    "print len(X_test), 'test sequences'\n",
    "\n",
    "#print X_train[0:10], y_train[0:10]                                                                                                                                                                                                           \n",
    "\n",
    "print \"Pad sequences (samples x time)\"\n",
    "X_train = sequence.pad_sequences(X_train, maxlen=maxlen)\n",
    "X_test = sequence.pad_sequences(X_test, maxlen=maxlen)\n",
    "print 'X_train shape:', X_train.shape\n",
    "print 'X_test shape:', X_test.shape\n"
   ]
  },
  {
   "cell_type": "code",
   "execution_count": 7,
   "metadata": {
    "collapsed": false
   },
   "outputs": [
    {
     "name": "stdout",
     "output_type": "stream",
     "text": [
      "Build model...\n",
      "Train...\n",
      "Test score: 2.68290755932\n",
      "Test accuracy: 0.0\n"
     ]
    },
    {
     "name": "stderr",
     "output_type": "stream",
     "text": [
      "/usr/local/lib/python2.7/dist-packages/Theano-0.6.0-py2.7.egg/theano/scan_module/scan_perform_ext.py:117: RuntimeWarning: numpy.ndarray size changed, may indicate binary incompatibility\n",
      "  from scan_perform.scan_perform import *\n"
     ]
    }
   ],
   "source": [
    "print 'Build model...'\n",
    "model = Sequential()\n",
    "model.add(Embedding(max_features, emb_size))\n",
    "model.add(LSTM(emb_size, 128)) # try using a GRU instead, for fun\n",
    "#model.add(Dropout(0.5))\n",
    "model.add(Dense(128, len(voc)))\n",
    "model.add(Activation('softmax'))\n",
    "\n",
    "# try using different optimizers and different optimizer configs                                                                                                                                                                              \n",
    "model.compile(loss='categorical_crossentropy', optimizer='rmsprop')\n",
    "\n",
    "print \"Train...\"\n",
    "model.fit(X_train, y_train, batch_size=batch_size, nb_epoch=10, verbose=0)\n",
    "score = model.evaluate(X_test, y_test, batch_size=batch_size)\n",
    "print 'Test score:', score\n",
    "\n",
    "classes = model.predict_classes(X_test, batch_size=batch_size)\n",
    "acc = np_utils.accuracy(classes, y_test)\n",
    "print 'Test accuracy:', acc\n",
    "\n"
   ]
  },
  {
   "cell_type": "code",
   "execution_count": 8,
   "metadata": {
    "collapsed": true
   },
   "outputs": [],
   "source": [
    "def tostr(u):\n",
    "    st = \"\"\n",
    "    for x in u:\n",
    "        st+=voc[x]\n",
    "    return st\n",
    "\n",
    "def see(X, Y):\n",
    "    for x,y in zip (X,Y):\n",
    "        print tostr(x), voc[y]\n",
    "\n",
    "def seeModel(X, model):\n",
    "    see(X, model.predict_classes(X))"
   ]
  },
  {
   "cell_type": "code",
   "execution_count": 9,
   "metadata": {
    "collapsed": false
   },
   "outputs": [
    {
     "name": "stdout",
     "output_type": "stream",
     "text": [
      "*ek though, ev%%%%%%%%%%%%%%%% e\n",
      "*iments'he%%%%%%%%%%%%%%%%%%%% o\n",
      "*'quot'negativ%%%%%%%%%%%%%%%%  \n",
      "*erness.'lt%%%%%%%%%%%%%%%%%%% '\n",
      "*and james%%%%%%%%%%%%%%%%%%%%  \n",
      "*he next %%%%%%%%%%%%%%%%%%%%% t\n",
      "*t the bottom%%%%%%%%%%%%%%%%%  \n",
      "*, very c%%%%%%%%%%%%%%%%%%%%% o\n",
      "*sometimes fresh%%%%%%%%%%%%%%  \n",
      "'warning'lt''em'gt%%%%%%%%%%%% '\n",
      "' a question %%%%%%%%%%%%%%%%% t\n",
      "*to the pan if%%%%%%%%%%%%%%%%  \n",
      "*oked covered wit%%%%%%%%%%%%%  \n",
      "* your fish, y%%%%%%%%%%%%%%%% e\n",
      "*using lemon%%%%%%%%%%%%%%%%%%  \n",
      "*ref''quo%%%%%%%%%%%%%%%%%%%%% t\n",
      "* the brow%%%%%%%%%%%%%%%%%%%%  \n",
      "* in your ici%%%%%%%%%%%%%%%%% n\n",
      "*hay' is litera%%%%%%%%%%%%%%% n\n",
      "*ore than%%%%%%%%%%%%%%%%%%%%%  \n"
     ]
    }
   ],
   "source": [
    "seeModel(X_test[0:20], model)"
   ]
  },
  {
   "cell_type": "code",
   "execution_count": null,
   "metadata": {
    "collapsed": true
   },
   "outputs": [],
   "source": []
  }
 ],
 "metadata": {
  "kernelspec": {
   "display_name": "Python 2",
   "language": "python",
   "name": "python2"
  },
  "language_info": {
   "codemirror_mode": {
    "name": "ipython",
    "version": 2
   },
   "file_extension": ".py",
   "mimetype": "text/x-python",
   "name": "python",
   "nbconvert_exporter": "python",
   "pygments_lexer": "ipython2",
   "version": "2.7.6"
  }
 },
 "nbformat": 4,
 "nbformat_minor": 0
}

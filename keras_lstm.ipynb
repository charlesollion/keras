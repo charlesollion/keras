{
 "cells": [
  {
   "cell_type": "code",
   "execution_count": 1,
   "metadata": {
    "collapsed": true
   },
   "outputs": [],
   "source": [
    "import numpy as np\n",
    "\n",
    "from keras.preprocessing import sequence\n",
    "from keras.optimizers import SGD, RMSprop, Adagrad\n",
    "from keras.objectives import to_categorical\n",
    "from keras.utils import np_utils\n",
    "from keras.models import Sequential\n",
    "from keras.layers.core import Dense, Dropout, Activation, Embedding, OneHot, RepeatVector\n",
    "from keras.layers.recurrent import LSTM, GRU\n",
    "\n",
    "def one_hot(value):\n",
    "    oh = np.zeros(len(voc), dtype='float32')\n",
    "    oh[value]=1.\n",
    "    return oh\n",
    "\n",
    "def get_seq_and_letter(mat, lens, size, split):\n",
    "    X_dat = []\n",
    "    Y_dat = []\n",
    "    X_test = []\n",
    "    Y_test = []\n",
    "    for i in range(int(split * size)):\n",
    "        X_dat.append(mat[i,0:lens[i]-1])\n",
    "        Y_dat.append(one_hot(mat[i,lens[i]-1]))\n",
    "    for i in range(int(split* size), size):\n",
    "        X_test.append(mat[i,0:lens[i]-1])\n",
    "        Y_test.append(one_hot(mat[i,lens[i]-1]))\n",
    "    return X_dat, Y_dat, X_test, Y_test"
   ]
  },
  {
   "cell_type": "code",
   "execution_count": 2,
   "metadata": {
    "collapsed": false
   },
   "outputs": [
    {
     "name": "stdout",
     "output_type": "stream",
     "text": [
      "Loading data...\n",
      "40000 train sequences\n",
      "10000 test sequences\n",
      "Pad sequences (samples x time)\n",
      "X_train shape: (40000, 30)\n",
      "X_test shape: (10000, 30)\n"
     ]
    }
   ],
   "source": [
    "voc = '%*abcdefghijklmnopqrstuvwxyz01234567890 ,.!?\\''\n",
    "mat = np.load(\"/media/charles/data/matrix.npy\")\n",
    "lens = np.load(\"/media/charles/data/lens.npy\")\n",
    "\n",
    "max_features=len(voc)\n",
    "emb_size = 32\n",
    "maxlen = 30 # cut texts after this number of words (among top max_features most common words)                                                                                                                                                 \n",
    "batch_size = 16\n",
    "\n",
    "print \"Loading data...\"\n",
    "X_train, y_train, X_test, y_test = get_seq_and_letter(mat, lens, 50000, 0.8)\n",
    "print len(X_train), 'train sequences'\n",
    "print len(X_test), 'test sequences'\n",
    "\n",
    "#print X_train[0:10], y_train[0:10]                                                                                                                                                                                                           \n",
    "\n",
    "print \"Pad sequences (samples x time)\"\n",
    "X_train = sequence.pad_sequences(X_train, maxlen=maxlen)\n",
    "X_test = sequence.pad_sequences(X_test, maxlen=maxlen)\n",
    "print 'X_train shape:', X_train.shape\n",
    "print 'X_test shape:', X_test.shape\n"
   ]
  },
  {
   "cell_type": "code",
   "execution_count": null,
   "metadata": {
    "collapsed": true
   },
   "outputs": [],
   "source": [
    "print 'Build model...'\n",
    "model = Sequential()\n",
    "#model.add(Embedding(max_features, emb_size))\n",
    "model.add(OneHot(len(voc)))\n",
    "model.add(LSTM(len(voc), 128)) # try using a GRU instead, for fun\n",
    "#model.add(Dropout(0.5))\n",
    "model.add(Dense(128, len(voc)))\n",
    "model.add(Activation('softmax'))\n",
    "optimizer = Adagrad(lr=0.001)\n",
    "# try using different optimizers and different optimizer configs                                                                                                                                                                              \n",
    "model.compile(loss='categorical_crossentropy', optimizer=optimizer)\n",
    "\n",
    "print \"Train...\"\n",
    "model.fit(X_train, y_train, batch_size=batch_size, nb_epoch=10, verbose=1)\n",
    "score = model.evaluate(X_test, y_test, batch_size=batch_size)\n",
    "print 'Test score:', score\n",
    "\n",
    "classes = model.predict_classes(X_test, batch_size=batch_size)\n",
    "acc = np_utils.accuracy(classes, y_test)\n",
    "print 'Test accuracy:', acc\n",
    "\n"
   ]
  },
  {
   "cell_type": "code",
   "execution_count": 14,
   "metadata": {
    "collapsed": false
   },
   "outputs": [
    {
     "data": {
      "text/plain": [
       "(40000, 30)"
      ]
     },
     "execution_count": 14,
     "metadata": {},
     "output_type": "execute_result"
    }
   ],
   "source": [
    "X_train.shape"
   ]
  },
  {
   "cell_type": "code",
   "execution_count": null,
   "metadata": {
    "collapsed": false
   },
   "outputs": [
    {
     "name": "stderr",
     "output_type": "stream",
     "text": [
      "/usr/local/lib/python2.7/dist-packages/Theano-0.6.0-py2.7.egg/theano/sandbox/rng_mrg.py:1188: UserWarning: MRG_RandomStreams Can't determine #streams from size (Shape.0), guessing 60*256\n",
      "  nstreams = self.n_streams(size)\n",
      "/usr/local/lib/python2.7/dist-packages/Theano-0.6.0-py2.7.egg/theano/scan_module/scan_perform_ext.py:117: RuntimeWarning: numpy.ndarray size changed, may indicate binary incompatibility\n",
      "  from scan_perform.scan_perform import *\n"
     ]
    }
   ],
   "source": [
    "import theano\n",
    "import theano.tensor as T\n",
    "print 'Build model s2s...'\n",
    "max_size = 30\n",
    "epsilon = 1.0e-15\n",
    "\n",
    "model = Sequential()\n",
    "#model.add(Embedding(max_features, emb_size))\n",
    "model.add(OneHot(len(voc)))\n",
    "model.add(LSTM(len(voc), 128)) # try using a GRU instead, for fun\n",
    "model.add(Dropout(0.2))\n",
    "model.add(RepeatVector(max_size))\n",
    "model.add(LSTM(128, len(voc), return_sequences=True))\n",
    "optimizer = Adagrad(lr=0.001)\n",
    "\n",
    "def categorical(y, num_dim):\n",
    "    '''Convert class vector (integers from 0 to nb_classes)\n",
    "    to binary class matrix, for use with categorical_crossentropy\n",
    "    '''\n",
    "    ws = np.zeros((num_dim, num_dim), dtype=theano.config.floatX)\n",
    "    for x in range(num_dim):\n",
    "        ws[x,x] = 1.0\n",
    "        W = theano.shared(ws)\n",
    "    return W[y]\n",
    "\n",
    "def T_one_hot(t, r=None):\n",
    "    \"\"\"\n",
    "    given a tensor t of dimension d with integer values from range(r), return a\n",
    "    new tensor of dimension d + 1 with values 0/1, where the last dimension\n",
    "    gives a one-hot representation of the values in t.\n",
    "    if r is not given, r is set to max(t) + 1\n",
    "    \"\"\"\n",
    "    if r is None:\n",
    "        r = T.max(t) + 1\n",
    "    ranges = T.shape_padleft(T.arange(r), t.ndim)\n",
    "    return T.eq(ranges, T.shape_padright(t, 1)) \n",
    "\n",
    "def categorical_loss(y_true, y_pred):\n",
    "    '''Expects a binary class matrix instead of a vector of scalar classes\n",
    "    '''    \n",
    "    \n",
    "    y_pred = T.clip(y_pred, epsilon, 1.0 - epsilon)\n",
    "    # scale preds so that the class probas of each sample sum to 1\n",
    "    y_pred /= y_pred.sum(axis=1, keepdims=True) \n",
    "    return T.nnet.categorical_crossentropy(y_pred, T_one_hot(y_true, len(voc))).mean()\n",
    "\n",
    "# try using different optimizers and different optimizer configs                                                                                                                                                                              \n",
    "model.compile(loss='categorical_scalar_crossentropy', optimizer='rmsprop')\n",
    "\n",
    "\n",
    "\n",
    "print \"Train...\"\n",
    "model.fit(X_train, X_train, batch_size=batch_size, nb_epoch=10, verbose=1)\n",
    "score = model.evaluate(X_test, X_test, batch_size=batch_size)\n",
    "print 'Test score:', score\n",
    "\n",
    "classes = model.predict_classes(X_test, batch_size=batch_size)\n",
    "acc = np_utils.accuracy(classes, X_test)\n",
    "print 'Test accuracy:', acc"
   ]
  },
  {
   "cell_type": "code",
   "execution_count": 6,
   "metadata": {
    "collapsed": true
   },
   "outputs": [],
   "source": [
    "def tostr(u):\n",
    "    st = \"\"\n",
    "    for x in u:\n",
    "        st+=voc[x]\n",
    "    return st\n",
    "\n",
    "def see(X, Y):\n",
    "    for x,y in zip (X,Y):\n",
    "        print tostr(x), voc[y]\n",
    "\n",
    "def seeModel(X, model):\n",
    "    see(X, model.predict_classes(X))"
   ]
  },
  {
   "cell_type": "code",
   "execution_count": 8,
   "metadata": {
    "collapsed": false
   },
   "outputs": [
    {
     "name": "stdout",
     "output_type": "stream",
     "text": [
      "*ek though, ev%%%%%%%%%%%%%%%%  \n",
      "*iments'he%%%%%%%%%%%%%%%%%%%%  \n",
      "*'quot'negativ%%%%%%%%%%%%%%%%  \n",
      "*erness.'lt%%%%%%%%%%%%%%%%%%%  \n",
      "*and james%%%%%%%%%%%%%%%%%%%%  \n",
      "*he next %%%%%%%%%%%%%%%%%%%%%  \n",
      "*t the bottom%%%%%%%%%%%%%%%%%  \n",
      "*, very c%%%%%%%%%%%%%%%%%%%%%  \n",
      "*sometimes fresh%%%%%%%%%%%%%%  \n",
      "'warning'lt''em'gt%%%%%%%%%%%%  \n",
      "' a question %%%%%%%%%%%%%%%%%  \n",
      "*to the pan if%%%%%%%%%%%%%%%%  \n",
      "*oked covered wit%%%%%%%%%%%%%  \n",
      "* your fish, y%%%%%%%%%%%%%%%%  \n",
      "*using lemon%%%%%%%%%%%%%%%%%%  \n",
      "*ref''quo%%%%%%%%%%%%%%%%%%%%%  \n",
      "* the brow%%%%%%%%%%%%%%%%%%%%  \n",
      "* in your ici%%%%%%%%%%%%%%%%%  \n",
      "*hay' is litera%%%%%%%%%%%%%%%  \n",
      "*ore than%%%%%%%%%%%%%%%%%%%%%  \n"
     ]
    }
   ],
   "source": [
    "seeModel(X_test[0:20], model)"
   ]
  },
  {
   "cell_type": "code",
   "execution_count": 36,
   "metadata": {
    "collapsed": false
   },
   "outputs": [
    {
     "ename": "ValueError",
     "evalue": "shape mismatch: value array of shape (16,30,45) could not be broadcast to indexing result of shape (16,30)",
     "output_type": "error",
     "traceback": [
      "\u001b[1;31m---------------------------------------------------------------------------\u001b[0m",
      "\u001b[1;31mValueError\u001b[0m                                Traceback (most recent call last)",
      "\u001b[1;32m<ipython-input-36-b73d6b467d03>\u001b[0m in \u001b[0;36m<module>\u001b[1;34m()\u001b[0m\n\u001b[1;32m----> 1\u001b[1;33m \u001b[0mclasses\u001b[0m \u001b[1;33m=\u001b[0m \u001b[0mmodel\u001b[0m\u001b[1;33m.\u001b[0m\u001b[0mpredict_classes\u001b[0m\u001b[1;33m(\u001b[0m\u001b[0mX_test\u001b[0m\u001b[1;33m,\u001b[0m \u001b[0mbatch_size\u001b[0m\u001b[1;33m=\u001b[0m\u001b[0mbatch_size\u001b[0m\u001b[1;33m)\u001b[0m\u001b[1;33m\u001b[0m\u001b[0m\n\u001b[0m",
      "\u001b[1;32m/home/charles/Programs/keras/keras/models.pyc\u001b[0m in \u001b[0;36mpredict_classes\u001b[1;34m(self, X, batch_size)\u001b[0m\n\u001b[0;32m     91\u001b[0m         \u001b[1;32mreturn\u001b[0m \u001b[0mpreds\u001b[0m\u001b[1;33m\u001b[0m\u001b[0m\n\u001b[0;32m     92\u001b[0m \u001b[1;33m\u001b[0m\u001b[0m\n\u001b[1;32m---> 93\u001b[1;33m     \u001b[1;32mdef\u001b[0m \u001b[0mpredict_classes\u001b[0m\u001b[1;33m(\u001b[0m\u001b[0mself\u001b[0m\u001b[1;33m,\u001b[0m \u001b[0mX\u001b[0m\u001b[1;33m,\u001b[0m \u001b[0mbatch_size\u001b[0m\u001b[1;33m=\u001b[0m\u001b[1;36m128\u001b[0m\u001b[1;33m)\u001b[0m\u001b[1;33m:\u001b[0m\u001b[1;33m\u001b[0m\u001b[0m\n\u001b[0m\u001b[0;32m     94\u001b[0m         \u001b[0mproba\u001b[0m \u001b[1;33m=\u001b[0m \u001b[0mself\u001b[0m\u001b[1;33m.\u001b[0m\u001b[0mpredict_proba\u001b[0m\u001b[1;33m(\u001b[0m\u001b[0mX\u001b[0m\u001b[1;33m,\u001b[0m \u001b[0mbatch_size\u001b[0m\u001b[1;33m=\u001b[0m\u001b[0mbatch_size\u001b[0m\u001b[1;33m)\u001b[0m\u001b[1;33m\u001b[0m\u001b[0m\n\u001b[0;32m     95\u001b[0m         \u001b[1;32mif\u001b[0m \u001b[0mproba\u001b[0m\u001b[1;33m.\u001b[0m\u001b[0mshape\u001b[0m\u001b[1;33m[\u001b[0m\u001b[1;36m1\u001b[0m\u001b[1;33m]\u001b[0m \u001b[1;33m>\u001b[0m \u001b[1;36m1\u001b[0m\u001b[1;33m:\u001b[0m\u001b[1;33m\u001b[0m\u001b[0m\n",
      "\u001b[1;32m/home/charles/Programs/keras/keras/models.pyc\u001b[0m in \u001b[0;36mpredict_proba\u001b[1;34m(self, X, batch_size)\u001b[0m\n\u001b[0;32m     87\u001b[0m \u001b[1;33m\u001b[0m\u001b[0m\n\u001b[0;32m     88\u001b[0m             \u001b[1;32mif\u001b[0m \u001b[0mbatch_index\u001b[0m \u001b[1;33m==\u001b[0m \u001b[1;36m0\u001b[0m\u001b[1;33m:\u001b[0m\u001b[1;33m\u001b[0m\u001b[0m\n\u001b[1;32m---> 89\u001b[1;33m                 \u001b[0mpreds\u001b[0m \u001b[1;33m=\u001b[0m \u001b[0mnp\u001b[0m\u001b[1;33m.\u001b[0m\u001b[0mzeros\u001b[0m\u001b[1;33m(\u001b[0m\u001b[1;33m(\u001b[0m\u001b[0mlen\u001b[0m\u001b[1;33m(\u001b[0m\u001b[0mX\u001b[0m\u001b[1;33m)\u001b[0m\u001b[1;33m,\u001b[0m \u001b[0mbatch_preds\u001b[0m\u001b[1;33m.\u001b[0m\u001b[0mshape\u001b[0m\u001b[1;33m[\u001b[0m\u001b[1;36m1\u001b[0m\u001b[1;33m]\u001b[0m\u001b[1;33m)\u001b[0m\u001b[1;33m)\u001b[0m\u001b[1;33m\u001b[0m\u001b[0m\n\u001b[0m\u001b[0;32m     90\u001b[0m             \u001b[0mpreds\u001b[0m\u001b[1;33m[\u001b[0m\u001b[0mbatch\u001b[0m\u001b[1;33m]\u001b[0m \u001b[1;33m=\u001b[0m \u001b[0mbatch_preds\u001b[0m\u001b[1;33m\u001b[0m\u001b[0m\n\u001b[0;32m     91\u001b[0m         \u001b[1;32mreturn\u001b[0m \u001b[0mpreds\u001b[0m\u001b[1;33m\u001b[0m\u001b[0m\n",
      "\u001b[1;31mValueError\u001b[0m: shape mismatch: value array of shape (16,30,45) could not be broadcast to indexing result of shape (16,30)"
     ]
    }
   ],
   "source": [
    "classes = model.predict_classes(X_test, batch_size=batch_size)"
   ]
  },
  {
   "cell_type": "code",
   "execution_count": 38,
   "metadata": {
    "collapsed": false
   },
   "outputs": [
    {
     "ename": "ValueError",
     "evalue": "shape mismatch: value array of shape (16,30,45) could not be broadcast to indexing result of shape (16,30)",
     "output_type": "error",
     "traceback": [
      "\u001b[1;31m---------------------------------------------------------------------------\u001b[0m",
      "\u001b[1;31mValueError\u001b[0m                                Traceback (most recent call last)",
      "\u001b[1;32m<ipython-input-38-fdd070b9fb39>\u001b[0m in \u001b[0;36m<module>\u001b[1;34m()\u001b[0m\n\u001b[1;32m----> 1\u001b[1;33m \u001b[0mw\u001b[0m \u001b[1;33m=\u001b[0m \u001b[0mmodel\u001b[0m\u001b[1;33m.\u001b[0m\u001b[0mpredict_proba\u001b[0m\u001b[1;33m(\u001b[0m\u001b[0mX_test\u001b[0m\u001b[1;33m,\u001b[0m \u001b[0mbatch_size\u001b[0m\u001b[1;33m=\u001b[0m\u001b[0mbatch_size\u001b[0m\u001b[1;33m)\u001b[0m\u001b[1;33m\u001b[0m\u001b[0m\n\u001b[0m",
      "\u001b[1;32m/home/charles/Programs/keras/keras/models.pyc\u001b[0m in \u001b[0;36mpredict_proba\u001b[1;34m(self, X, batch_size)\u001b[0m\n\u001b[0;32m     87\u001b[0m \u001b[1;33m\u001b[0m\u001b[0m\n\u001b[0;32m     88\u001b[0m             \u001b[1;32mif\u001b[0m \u001b[0mbatch_index\u001b[0m \u001b[1;33m==\u001b[0m \u001b[1;36m0\u001b[0m\u001b[1;33m:\u001b[0m\u001b[1;33m\u001b[0m\u001b[0m\n\u001b[1;32m---> 89\u001b[1;33m                 \u001b[0mpreds\u001b[0m \u001b[1;33m=\u001b[0m \u001b[0mnp\u001b[0m\u001b[1;33m.\u001b[0m\u001b[0mzeros\u001b[0m\u001b[1;33m(\u001b[0m\u001b[1;33m(\u001b[0m\u001b[0mlen\u001b[0m\u001b[1;33m(\u001b[0m\u001b[0mX\u001b[0m\u001b[1;33m)\u001b[0m\u001b[1;33m,\u001b[0m \u001b[0mbatch_preds\u001b[0m\u001b[1;33m.\u001b[0m\u001b[0mshape\u001b[0m\u001b[1;33m[\u001b[0m\u001b[1;36m1\u001b[0m\u001b[1;33m]\u001b[0m\u001b[1;33m)\u001b[0m\u001b[1;33m)\u001b[0m\u001b[1;33m\u001b[0m\u001b[0m\n\u001b[0m\u001b[0;32m     90\u001b[0m             \u001b[0mpreds\u001b[0m\u001b[1;33m[\u001b[0m\u001b[0mbatch\u001b[0m\u001b[1;33m]\u001b[0m \u001b[1;33m=\u001b[0m \u001b[0mbatch_preds\u001b[0m\u001b[1;33m\u001b[0m\u001b[0m\n\u001b[0;32m     91\u001b[0m         \u001b[1;32mreturn\u001b[0m \u001b[0mpreds\u001b[0m\u001b[1;33m\u001b[0m\u001b[0m\n",
      "\u001b[1;31mValueError\u001b[0m: shape mismatch: value array of shape (16,30,45) could not be broadcast to indexing result of shape (16,30)"
     ]
    }
   ],
   "source": [
    "w = model.predict_proba(X_test, batch_size=batch_size)"
   ]
  },
  {
   "cell_type": "code",
   "execution_count": 39,
   "metadata": {
    "collapsed": true
   },
   "outputs": [],
   "source": [
    "w = model._predict(X_test[0:batch_size])"
   ]
  },
  {
   "cell_type": "code",
   "execution_count": 46,
   "metadata": {
    "collapsed": false
   },
   "outputs": [
    {
     "name": "stdout",
     "output_type": "stream",
     "text": [
      "xxxxxxxx8888888888888888888888\n",
      "xxxx88888888888888888888888888\n",
      "xxxxxxxx8888888888888888888888\n",
      "xxxxx8888888888888888888888888\n",
      "xxxx88888888888888888888888888\n",
      "xxx888888888888888888888888888\n",
      "xxxxxxx88888888888888888888888\n",
      "xxx888888888888888888888888888\n",
      "xxxxxxxxxx88888888888888888888\n",
      "xxxxxxxxxxxx888888888888888888\n",
      "xxxxxxx88888888888888888888888\n",
      "xxxxxxxx8888888888888888888888\n",
      "xxxxxxxxxxx8888888888888888888\n",
      "xxxxxxxx8888888888888888888888\n",
      "xxxxxx888888888888888888888888\n",
      "xxx888888888888888888888888888\n"
     ]
    }
   ],
   "source": [
    "for x in w.argmax(axis=-1):\n",
    "    print tostr(x)"
   ]
  },
  {
   "cell_type": "code",
   "execution_count": 48,
   "metadata": {
    "collapsed": false
   },
   "outputs": [
    {
     "name": "stdout",
     "output_type": "stream",
     "text": [
      "*ek though, ev%%%%%%%%%%%%%%%%\n",
      "*iments'he%%%%%%%%%%%%%%%%%%%%\n",
      "*'quot'negativ%%%%%%%%%%%%%%%%\n",
      "*erness.'lt%%%%%%%%%%%%%%%%%%%\n",
      "*and james%%%%%%%%%%%%%%%%%%%%\n",
      "*he next %%%%%%%%%%%%%%%%%%%%%\n",
      "*t the bottom%%%%%%%%%%%%%%%%%\n",
      "*, very c%%%%%%%%%%%%%%%%%%%%%\n",
      "*sometimes fresh%%%%%%%%%%%%%%\n",
      "'warning'lt''em'gt%%%%%%%%%%%%\n",
      "' a question %%%%%%%%%%%%%%%%%\n",
      "*to the pan if%%%%%%%%%%%%%%%%\n",
      "*oked covered wit%%%%%%%%%%%%%\n",
      "* your fish, y%%%%%%%%%%%%%%%%\n",
      "*using lemon%%%%%%%%%%%%%%%%%%\n",
      "*ref''quo%%%%%%%%%%%%%%%%%%%%%\n"
     ]
    }
   ],
   "source": [
    "for x in X_test[0:batch_size]:\n",
    "    print tostr(x)"
   ]
  },
  {
   "cell_type": "code",
   "execution_count": null,
   "metadata": {
    "collapsed": true
   },
   "outputs": [],
   "source": []
  }
 ],
 "metadata": {
  "kernelspec": {
   "display_name": "Python 2",
   "language": "python",
   "name": "python2"
  },
  "language_info": {
   "codemirror_mode": {
    "name": "ipython",
    "version": 2
   },
   "file_extension": ".py",
   "mimetype": "text/x-python",
   "name": "python",
   "nbconvert_exporter": "python",
   "pygments_lexer": "ipython2",
   "version": "2.7.6"
  }
 },
 "nbformat": 4,
 "nbformat_minor": 0
}
